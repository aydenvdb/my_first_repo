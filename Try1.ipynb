{
 "cells": [
  {
   "cell_type": "code",
   "execution_count": 22,
   "id": "eb056cea-c05d-4e58-8fb3-5658a2931306",
   "metadata": {
    "tags": []
   },
   "outputs": [],
   "source": [
    "import numpy as np\n",
    "import pandas as pd\n",
    "from datetime import datetime\n",
    "import matplotlib.pyplot as plt"
   ]
  },
  {
   "cell_type": "code",
   "execution_count": 26,
   "id": "1d423db4-24dd-4d89-a5d7-b952482f605a",
   "metadata": {
    "tags": []
   },
   "outputs": [
    {
     "ename": "FileNotFoundError",
     "evalue": "[Errno 2] No such file or directory: '/users/vandenberg/Downloads/seattle_waterlevels_sept2024.csv'",
     "output_type": "error",
     "traceback": [
      "\u001b[0;31m---------------------------------------------------------------------------\u001b[0m",
      "\u001b[0;31mFileNotFoundError\u001b[0m                         Traceback (most recent call last)",
      "Cell \u001b[0;32mIn[26], line 2\u001b[0m\n\u001b[1;32m      1\u001b[0m filepath \u001b[38;5;241m=\u001b[39m \u001b[38;5;124m'\u001b[39m\u001b[38;5;124m/users/vandenberg/Downloads/seattle_waterlevels_sept2024.csv\u001b[39m\u001b[38;5;124m'\u001b[39m\n\u001b[0;32m----> 2\u001b[0m file_obj \u001b[38;5;241m=\u001b[39m \u001b[38;5;28;43mopen\u001b[39;49m\u001b[43m(\u001b[49m\u001b[43mfilepath\u001b[49m\u001b[43m,\u001b[49m\u001b[43m \u001b[49m\u001b[38;5;124;43m'\u001b[39;49m\u001b[38;5;124;43mr\u001b[39;49m\u001b[38;5;124;43m'\u001b[39;49m\u001b[43m)\u001b[49m\n\u001b[1;32m      4\u001b[0m \u001b[38;5;66;03m# open the whole file as a list of strings\u001b[39;00m\n\u001b[1;32m      5\u001b[0m lines \u001b[38;5;241m=\u001b[39m file_obj\u001b[38;5;241m.\u001b[39mreadlines()\n",
      "File \u001b[0;32m/opt/conda/lib/python3.10/site-packages/IPython/core/interactiveshell.py:284\u001b[0m, in \u001b[0;36m_modified_open\u001b[0;34m(file, *args, **kwargs)\u001b[0m\n\u001b[1;32m    277\u001b[0m \u001b[38;5;28;01mif\u001b[39;00m file \u001b[38;5;129;01min\u001b[39;00m {\u001b[38;5;241m0\u001b[39m, \u001b[38;5;241m1\u001b[39m, \u001b[38;5;241m2\u001b[39m}:\n\u001b[1;32m    278\u001b[0m     \u001b[38;5;28;01mraise\u001b[39;00m \u001b[38;5;167;01mValueError\u001b[39;00m(\n\u001b[1;32m    279\u001b[0m         \u001b[38;5;124mf\u001b[39m\u001b[38;5;124m\"\u001b[39m\u001b[38;5;124mIPython won\u001b[39m\u001b[38;5;124m'\u001b[39m\u001b[38;5;124mt let you open fd=\u001b[39m\u001b[38;5;132;01m{\u001b[39;00mfile\u001b[38;5;132;01m}\u001b[39;00m\u001b[38;5;124m by default \u001b[39m\u001b[38;5;124m\"\u001b[39m\n\u001b[1;32m    280\u001b[0m         \u001b[38;5;124m\"\u001b[39m\u001b[38;5;124mas it is likely to crash IPython. If you know what you are doing, \u001b[39m\u001b[38;5;124m\"\u001b[39m\n\u001b[1;32m    281\u001b[0m         \u001b[38;5;124m\"\u001b[39m\u001b[38;5;124myou can use builtins\u001b[39m\u001b[38;5;124m'\u001b[39m\u001b[38;5;124m open.\u001b[39m\u001b[38;5;124m\"\u001b[39m\n\u001b[1;32m    282\u001b[0m     )\n\u001b[0;32m--> 284\u001b[0m \u001b[38;5;28;01mreturn\u001b[39;00m \u001b[43mio_open\u001b[49m\u001b[43m(\u001b[49m\u001b[43mfile\u001b[49m\u001b[43m,\u001b[49m\u001b[43m \u001b[49m\u001b[38;5;241;43m*\u001b[39;49m\u001b[43margs\u001b[49m\u001b[43m,\u001b[49m\u001b[43m \u001b[49m\u001b[38;5;241;43m*\u001b[39;49m\u001b[38;5;241;43m*\u001b[39;49m\u001b[43mkwargs\u001b[49m\u001b[43m)\u001b[49m\n",
      "\u001b[0;31mFileNotFoundError\u001b[0m: [Errno 2] No such file or directory: '/users/vandenberg/Downloads/seattle_waterlevels_sept2024.csv'"
     ]
    }
   ],
   "source": [
    "filepath = '/Users/vandenberg/Downloads/seattle_waterlevels_sept2024.csv'\n",
    "file_obj = open(filepath, 'r')\n",
    "\n",
    "# open the whole file as a list of strings\n",
    "lines = file_obj.readlines()\n",
    "print(\"There are\", len(lines), \"lines in the file!\")"
   ]
  },
  {
   "cell_type": "code",
   "execution_count": 27,
   "id": "09710a9e-143b-4a53-84f8-c12c3c72b3ab",
   "metadata": {
    "tags": []
   },
   "outputs": [
    {
     "ename": "NameError",
     "evalue": "name 'file_obj' is not defined",
     "output_type": "error",
     "traceback": [
      "\u001b[0;31m---------------------------------------------------------------------------\u001b[0m",
      "\u001b[0;31mNameError\u001b[0m                                 Traceback (most recent call last)",
      "Cell \u001b[0;32mIn[27], line 1\u001b[0m\n\u001b[0;32m----> 1\u001b[0m \u001b[38;5;28mprint\u001b[39m(\u001b[43mfile_obj\u001b[49m\u001b[38;5;241m.\u001b[39mreadline())\n",
      "\u001b[0;31mNameError\u001b[0m: name 'file_obj' is not defined"
     ]
    }
   ],
   "source": [
    "print(file_obj.readline())"
   ]
  },
  {
   "cell_type": "code",
   "execution_count": null,
   "id": "68819453-80c2-4868-8a7a-509ab0379c9d",
   "metadata": {},
   "outputs": [],
   "source": [
    "file_obj.close()"
   ]
  },
  {
   "cell_type": "code",
   "execution_count": null,
   "id": "f9158438-0db8-4afa-b767-3847c360c3d1",
   "metadata": {},
   "outputs": [],
   "source": [
    "file_obj = open(filepath, 'r')\n",
    "\n",
    "# print out the first 10 lines of the file using a loop\n",
    "# try writing a loop for this\n",
    "for i in range(10):\n",
    "    print(file_obj.readline())"
   ]
  },
  {
   "cell_type": "code",
   "execution_count": null,
   "id": "9773dc2f-fb9a-45c3-a9d0-6f65d455f2e7",
   "metadata": {},
   "outputs": [],
   "source": [
    "data = np.genfromtxt(filepath,\n",
    "                     skip_header = 1, # there is one line of header text\n",
    "                     usecols = (0, 1, 2, 4), # columns we want to read in\n",
    "                     dtype = str,    # read everything in as a string\n",
    "                     delimiter = ',')  # CSV --> comman-separated value"
   ]
  },
  {
   "cell_type": "code",
   "execution_count": null,
   "id": "4c98f6b6-9ca7-4448-939a-2eb4ca0d6339",
   "metadata": {},
   "outputs": [],
   "source": [
    "print(data[0])\n",
    "print(\"The shape of our array is\", np.shape(data))\n",
    "nrows = np.shape(data)[0]\n",
    "ncols = np.shape(data)[1]\n",
    "print(nrows, ncols)"
   ]
  },
  {
   "cell_type": "code",
   "execution_count": null,
   "id": "3caf29a0-4768-4416-9a0e-5e7bfed2f6cf",
   "metadata": {},
   "outputs": [],
   "source": [
    "for i in range(nrows):  # loop over the rows of data\n",
    "    for j in range(ncols):  # loop over the columsn of data\n",
    "        #print(data[i, j]) # print out the element in the ith row and the jth column\n",
    "        #print(data[i, j][1:-1])\n",
    "        data[i, j] = data[i, j][1:-1]"
   ]
  },
  {
   "cell_type": "code",
   "execution_count": 1,
   "id": "7a850ff8-200a-465f-ad60-70bdb7e280a8",
   "metadata": {},
   "outputs": [],
   "source": [
    "wow = len(range(5))"
   ]
  }
 ],
 "metadata": {
  "kernelspec": {
   "display_name": "Python 3 (ipykernel)",
   "language": "python",
   "name": "python3"
  },
  "language_info": {
   "codemirror_mode": {
    "name": "ipython",
    "version": 3
   },
   "file_extension": ".py",
   "mimetype": "text/x-python",
   "name": "python",
   "nbconvert_exporter": "python",
   "pygments_lexer": "ipython3",
   "version": "3.10.10"
  }
 },
 "nbformat": 4,
 "nbformat_minor": 5
}
